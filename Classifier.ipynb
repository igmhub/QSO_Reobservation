{
 "cells": [
  {
   "cell_type": "code",
   "execution_count": 1,
   "metadata": {
    "collapsed": false
   },
   "outputs": [
    {
     "name": "stdout",
     "output_type": "stream",
     "text": [
      "Populating the interactive namespace from numpy and matplotlib\n"
     ]
    }
   ],
   "source": [
    "%pylab inline"
   ]
  },
  {
   "cell_type": "code",
   "execution_count": 3,
   "metadata": {
    "collapsed": false
   },
   "outputs": [],
   "source": [
    "from astropy.table import Table\n",
    "from astropy.table import join\n",
    "import astropy.io.fits as fits\n",
    "from sklearn.model_selection import cross_val_score, StratifiedKFold, KFold, train_test_split\n",
    "from sklearn.ensemble import GradientBoostingClassifier\n",
    "from sklearn.preprocessing import LabelEncoder\n",
    "from sklearn.preprocessing import StandardScaler\n",
    "from sklearn.pipeline import Pipeline\n",
    "import speclite\n",
    "import os\n",
    "from keras.models import Sequential\n",
    "from keras.layers import Dense, Dropout\n",
    "from keras.wrappers.scikit_learn import KerasClassifier\n",
    "from keras.layers.recurrent import LSTM\n",
    "from keras.utils import np_utils"
   ]
  },
  {
   "cell_type": "markdown",
   "metadata": {},
   "source": [
    "This routine has to be updated with the new DESI format"
   ]
  },
  {
   "cell_type": "code",
   "execution_count": 4,
   "metadata": {
    "collapsed": true
   },
   "outputs": [],
   "source": [
    "def readBricks(path_in,brick_name):\n",
    "    hdus = []\n",
    "    for channel in 'brz':\n",
    "        filename = 'brick-{}-{}.fits'.format(channel,brick_name)\n",
    "        hdulist = fits.open(os.path.join(path_in,filename))\n",
    "        hdus.append(hdulist)\n",
    "    return hdus"
   ]
  },
  {
   "cell_type": "code",
   "execution_count": 5,
   "metadata": {
    "collapsed": false
   },
   "outputs": [],
   "source": [
    "hdus = readBricks('./fake_qso/','all-osu')"
   ]
  },
  {
   "cell_type": "code",
   "execution_count": 6,
   "metadata": {
    "collapsed": false
   },
   "outputs": [
    {
     "data": {
      "text/plain": [
       "((4000, 4760), (4000, 4232), (4000, 4798))"
      ]
     },
     "execution_count": 6,
     "metadata": {},
     "output_type": "execute_result"
    }
   ],
   "source": [
    "hdus[0][0].shape, hdus[1][0].shape, hdus[2][0].shape"
   ]
  },
  {
   "cell_type": "code",
   "execution_count": 7,
   "metadata": {
    "collapsed": true
   },
   "outputs": [],
   "source": [
    "def downsample(camera,nspec,ndownsample, si=0):\n",
    "    data = np.ones((nspec,len(hdus[camera][2].data[si:])), dtype=[('flux', float), ('ivar',float)])\n",
    "    data['flux']=hdus[camera][0].data[:,si:]\n",
    "    data['ivar']=hdus[camera][1].data[:,si:]\n",
    "    return speclite.downsample(data,ndownsample,axis=1,weight='ivar')"
   ]
  },
  {
   "cell_type": "code",
   "execution_count": 8,
   "metadata": {
    "collapsed": false
   },
   "outputs": [],
   "source": [
    "flux_b = downsample(0,4000,20)\n",
    "flux_r = downsample(1,4000,23)\n",
    "flux_z = downsample(2,4000,35,si=3)"
   ]
  },
  {
   "cell_type": "code",
   "execution_count": 9,
   "metadata": {
    "collapsed": false
   },
   "outputs": [
    {
     "name": "stdout",
     "output_type": "stream",
     "text": [
      "(4000, 238) (4000, 184) (4000, 137)\n"
     ]
    }
   ],
   "source": [
    "print flux_b.shape, flux_r.shape, flux_z.shape"
   ]
  },
  {
   "cell_type": "code",
   "execution_count": 10,
   "metadata": {
    "collapsed": true
   },
   "outputs": [],
   "source": [
    "qso_flux = np.hstack([flux_b,flux_r,flux_z])"
   ]
  },
  {
   "cell_type": "code",
   "execution_count": 11,
   "metadata": {
    "collapsed": false
   },
   "outputs": [
    {
     "data": {
      "text/plain": [
       "(4000, 559)"
      ]
     },
     "execution_count": 11,
     "metadata": {},
     "output_type": "execute_result"
    }
   ],
   "source": [
    "qso_flux.shape"
   ]
  },
  {
   "cell_type": "code",
   "execution_count": 12,
   "metadata": {
    "collapsed": true
   },
   "outputs": [],
   "source": [
    "table_train = Table.read('./fake_qso/training_table_all_0.0.3_z_mag.fits.gz')"
   ]
  },
  {
   "cell_type": "code",
   "execution_count": 13,
   "metadata": {
    "collapsed": false
   },
   "outputs": [],
   "source": [
    "tab_nico = Table.read('./fake_qso/rm_brick_osu_0.0.3.fits')"
   ]
  },
  {
   "cell_type": "markdown",
   "metadata": {},
   "source": [
    "The spectra and the training table have the same ordering"
   ]
  },
  {
   "cell_type": "markdown",
   "metadata": {},
   "source": [
    "We are going to generate a vector with `1` where the object type is QSO and `0` elsewhere."
   ]
  },
  {
   "cell_type": "code",
   "execution_count": 15,
   "metadata": {
    "collapsed": false
   },
   "outputs": [
    {
     "data": {
      "text/html": [
       "&lt;Table length=1000&gt;\n",
       "<table id=\"table4536102288\" class=\"table-striped table-bordered table-condensed\">\n",
       "<thead><tr><th>TARGETID</th><th>TRUE_OBJTYPE</th><th>Z</th><th>MAG [5]</th></tr></thead>\n",
       "<thead><tr><th>int64</th><th>str10</th><th>float64</th><th>float32</th></tr></thead>\n",
       "<tr><td>359019675454725751</td><td>HZQSO</td><td>2.80687618256</td><td>0.0 .. 0.0</td></tr>\n",
       "<tr><td>2775006358251495435</td><td>ELG</td><td>0.0</td><td>0.0 .. 0.0</td></tr>\n",
       "<tr><td>3522945317776209514</td><td>STAR</td><td>0.0</td><td>0.0 .. 0.0</td></tr>\n",
       "<tr><td>1252617061243456603</td><td>HZQSO</td><td>2.17549347878</td><td>0.0 .. 0.0</td></tr>\n",
       "<tr><td>3020544656171833094</td><td>QSO</td><td>2.01650881767</td><td>0.0 .. 0.0</td></tr>\n",
       "<tr><td>1975922397008082299</td><td>HZQSO</td><td>2.26564359665</td><td>0.0 .. 0.0</td></tr>\n",
       "<tr><td>2438371134459573657</td><td>HZQSO</td><td>2.89319777489</td><td>0.0 .. 0.0</td></tr>\n",
       "<tr><td>263615315938080723</td><td>HZQSO</td><td>3.48627591133</td><td>0.0 .. 0.0</td></tr>\n",
       "<tr><td>3280591891290288611</td><td>QSO</td><td>0.73425835371</td><td>0.0 .. 0.0</td></tr>\n",
       "<tr><td>1169997993917287582</td><td>QSO</td><td>1.54107546806</td><td>0.0 .. 0.0</td></tr>\n",
       "<tr><td>...</td><td>...</td><td>...</td><td>...</td></tr>\n",
       "<tr><td>1201499001698015090</td><td>GALAXY</td><td>0.0</td><td>0.0 .. 0.0</td></tr>\n",
       "<tr><td>3649711579364804182</td><td>HZQSO</td><td>2.82247257233</td><td>0.0 .. 0.0</td></tr>\n",
       "<tr><td>3564235795407481780</td><td>HZQSO</td><td>2.33307051659</td><td>0.0 .. 0.0</td></tr>\n",
       "<tr><td>3419653191864995007</td><td>STAR</td><td>0.0</td><td>0.0 .. 0.0</td></tr>\n",
       "<tr><td>1130022222440721533</td><td>QSO</td><td>1.03710222244</td><td>0.0 .. 0.0</td></tr>\n",
       "<tr><td>2244981178935493253</td><td>ELG</td><td>0.0</td><td>0.0 .. 0.0</td></tr>\n",
       "<tr><td>3390984725035617124</td><td>HZQSO</td><td>2.21737098694</td><td>0.0 .. 0.0</td></tr>\n",
       "<tr><td>180600789369739714</td><td>QSO</td><td>2.06087136269</td><td>0.0 .. 0.0</td></tr>\n",
       "<tr><td>3194468125176607825</td><td>QSO</td><td>2.05614972115</td><td>0.0 .. 0.0</td></tr>\n",
       "<tr><td>2548748776646358669</td><td>HZQSO</td><td>2.69321918488</td><td>0.0 .. 0.0</td></tr>\n",
       "</table>"
      ],
      "text/plain": [
       "<Table length=1000>\n",
       "      TARGETID      TRUE_OBJTYPE       Z        MAG [5]  \n",
       "       int64           str10        float64     float32  \n",
       "------------------- ------------ ------------- ----------\n",
       " 359019675454725751        HZQSO 2.80687618256 0.0 .. 0.0\n",
       "2775006358251495435          ELG           0.0 0.0 .. 0.0\n",
       "3522945317776209514         STAR           0.0 0.0 .. 0.0\n",
       "1252617061243456603        HZQSO 2.17549347878 0.0 .. 0.0\n",
       "3020544656171833094          QSO 2.01650881767 0.0 .. 0.0\n",
       "1975922397008082299        HZQSO 2.26564359665 0.0 .. 0.0\n",
       "2438371134459573657        HZQSO 2.89319777489 0.0 .. 0.0\n",
       " 263615315938080723        HZQSO 3.48627591133 0.0 .. 0.0\n",
       "3280591891290288611          QSO 0.73425835371 0.0 .. 0.0\n",
       "1169997993917287582          QSO 1.54107546806 0.0 .. 0.0\n",
       "                ...          ...           ...        ...\n",
       "1201499001698015090       GALAXY           0.0 0.0 .. 0.0\n",
       "3649711579364804182        HZQSO 2.82247257233 0.0 .. 0.0\n",
       "3564235795407481780        HZQSO 2.33307051659 0.0 .. 0.0\n",
       "3419653191864995007         STAR           0.0 0.0 .. 0.0\n",
       "1130022222440721533          QSO 1.03710222244 0.0 .. 0.0\n",
       "2244981178935493253          ELG           0.0 0.0 .. 0.0\n",
       "3390984725035617124        HZQSO 2.21737098694 0.0 .. 0.0\n",
       " 180600789369739714          QSO 2.06087136269 0.0 .. 0.0\n",
       "3194468125176607825          QSO 2.05614972115 0.0 .. 0.0\n",
       "2548748776646358669        HZQSO 2.69321918488 0.0 .. 0.0"
      ]
     },
     "execution_count": 15,
     "metadata": {},
     "output_type": "execute_result"
    }
   ],
   "source": [
    "table_train"
   ]
  },
  {
   "cell_type": "code",
   "execution_count": 16,
   "metadata": {
    "collapsed": false
   },
   "outputs": [
    {
     "data": {
      "text/plain": [
       "1000"
      ]
     },
     "execution_count": 16,
     "metadata": {},
     "output_type": "execute_result"
    }
   ],
   "source": [
    "len(table_train)"
   ]
  },
  {
   "cell_type": "code",
   "execution_count": 18,
   "metadata": {
    "collapsed": false
   },
   "outputs": [
    {
     "name": "stdout",
     "output_type": "stream",
     "text": [
      "87 79 77\n",
      "[2 0 5 1 4 1 2 3 4 4 4 5 3 0 0 2 0 4 0 4 5 0 0 0 4 4 0 0 0 0 0 0 4 5 5 1 0\n",
      " 5 5 1 2 0 3 5 0 2 4 5 5 4 0 0 4 4 4 2 4 5 0 0 5 3 5 5 4 5 0 5 0 5 4 0 4 5\n",
      " 5 4 0 0 0 4 1 1 4 4 5 0 5 0 4 4 1 3 4 3 3 4 4 1 4 4 4 5 3 0 4 5 2 0 0 5 5\n",
      " 5 2 0 4 5 4 3 4 5 0 2 4 5 5 0 0 4 1 4 0 2 4 4 4 0 1 0 4 3 4 4 5 0 3 0 4 1\n",
      " 4 4 4 4 5 5 4 5 0 5 5 5 0 0 0 5 3 0 1 1 0 4 0 4 2 4 4 4 4 2 2 4 2 1 4 1 0\n",
      " 5 5 1 1 3 0 1 5 4 5 0 5 2 3 1 5 4 0 1 5 1 2 0 0 3 0 5 1 5 4 4 0 0 4 2 4 5\n",
      " 1 3 5 0 4 5 5 0 1 0 4 5 5 4 0 5 0 5 5 4 5 5 3 0 4 5 4 3 0 0 0 0 5 0 5 5 4\n",
      " 4 4 5 2 0 3 4 0 0 0 0 5 2 3 4 4 0 0 4 2 0 4 4 0 0 0 3 5 5 3 0 0 0 0 0 3 4\n",
      " 5 5 4 0 4 4 0 0 4 4 0 4 5 1 1 4 0 0 4 1 4 3 5 4 5 5 0 4 1 0 4 5 4 5 0 5 3\n",
      " 4 4 4 5 4 0 2 5 1 4 5 5 0 2 4 5 5 0 3 4 0 4 2 1 2 1 5 0 2 5 0 5 2 5 3 1 4\n",
      " 4 5 5 1 4 0 4 2 2 1 4 0 2 5 5 5 3 0 1 1 1 5 4 0 2 0 5 1 4 0 0 4 5 4 0 4 5\n",
      " 4 4 1 4 1 4 0 0 3 1 4 5 2 2 4 0 5 4 0 0 4 4 4 3 4 4 5 3 4 5 5 4 4 4 5 0 4\n",
      " 0 5 4 5 5 5 4 1 1 0 4 4 1 4 4 5 3 4 4 4 2 5 2 0 2 0 5 4 2 5 5 4 4 3 1 1 5\n",
      " 4 1 4 0 5 3 3 5 0 0 5 5 3 5 4 4 5 5 5 0 5 4 3 4 1 4 4 5 5 4 5 4 5 1 3 0 4\n",
      " 1 3 0 0 0 4 5 0 0 0 4 4 4 0 1 0 1 5 5 4 5 5 4 3 0 1 0 4 4 5 1 5 1 5 0 0 2\n",
      " 5 3 3 5 0 4 3 3 4 1 0 5 4 3 0 4 0 5 4 2 2 0 4 3 4 4 3 4 5 1 1 4 2 5 2 0 4\n",
      " 5 5 3 0 3 2 1 5 0 4 5 1 0 5 5 4 5 5 0 5 1 0 5 0 1 0 1 0 4 2 5 5 1 4 0 4 0\n",
      " 5 5 5 0 0 5 0 5 4 2 4 5 5 5 5 4 0 0 5 4 1 4 5 4 3 4 5 5 4 3 0 5 0 4 0 4 1\n",
      " 4 0 4 3 5 5 5 0 0 4 1 1 5 2 5 0 2 0 1 4 3 0 0 4 0 0 4 0 0 0 3 0 2 0 1 4 4\n",
      " 5 1 3 0 2 0 3 3 2 3 5 5 0 5 0 0 5 4 1 1 5 5 2 4 0 2 5 4 5 4 0 4 5 4 0 4 5\n",
      " 0 4 2 5 1 4 2 4 0 2 0 0 1 5 0 5 2 5 0 3 4 4 5 5 5 1 2 0 2 1 5 0 2 5 4 5 5\n",
      " 4 5 3 5 2 4 2 4 4 4 5 4 4 4 1 5 2 1 5 4 0 4 4 5 4 5 0 0 5 5 4 0 4 4 4 0 1\n",
      " 0 0 5 4 0 4 0 4 4 4 3 0 0 5 4 3 2 5 0 0 5 0 3 0 0 1 1 4 0 5 5 0 5 5 2 5 0\n",
      " 5 2 5 2 3 1 4 3 3 0 5 0 5 4 5 3 4 2 5 2 5 4 4 0 5 4 4 5 5 0 3 0 4 0 5 0 0\n",
      " 0 0 0 2 3 5 5 4 0 1 5 4 4 0 5 0 2 4 4 0 4 4 0 5 0 4 0 3 5 5 4 5 5 4 5 2 4\n",
      " 0 2 0 0 3 4 5 3 4 5 5 0 4 2 4 4 5 5 5 3 3 5 0 0 4 4 0 3 0 4 4 2 4 5 0 0 4\n",
      " 2 2 4 0 5 0 0 5 4 4 5 1 2 0 0 0 5 4 3 0 0 4 4 2 5 3 4 5 0 2 1 5 4 0 1 4 4\n",
      " 2]\n",
      "[[ 0.  0.  1.  0.  0.  0.]\n",
      " [ 1.  0.  0.  0.  0.  0.]\n",
      " [ 0.  0.  0.  0.  0.  1.]\n",
      " ..., \n",
      " [ 0.  0.  0.  0.  1.  0.]\n",
      " [ 0.  0.  0.  0.  1.  0.]\n",
      " [ 0.  0.  1.  0.  0.  0.]]\n"
     ]
    }
   ],
   "source": [
    "hzqso = table_train['TRUE_OBJTYPE']=='HZQSO'\n",
    "bin1 = np.logical_and(table_train['Z']>=2.1,table_train['Z']<2.6)\n",
    "bin2 = np.logical_and(table_train['Z']>=2.6,table_train['Z']<3.1)\n",
    "bin3 = table_train['Z']>=3.1\n",
    "hzqso_1 = np.logical_and(hzqso,bin1)\n",
    "hzqso_2 = np.logical_and(hzqso,bin2)\n",
    "hzqso_3 = np.logical_and(hzqso,bin3)\n",
    "table_train['TRUE_OBJTYPE'][hzqso_1]='HZ_QSO_1'\n",
    "table_train['TRUE_OBJTYPE'][hzqso_2]='HZ_QSO_2'\n",
    "table_train['TRUE_OBJTYPE'][hzqso_3]='HZ_QSO_3'\n",
    "elgs = table_train['TRUE_OBJTYPE']=='ELG'\n",
    "table_train['TRUE_OBJTYPE'][elgs]='GALAXY'\n",
    "encoder = LabelEncoder()\n",
    "encoder.fit(table_train['TRUE_OBJTYPE'])\n",
    "encoded_Y = encoder.transform(table_train['TRUE_OBJTYPE'])\n",
    "dummy_y = np_utils.to_categorical(encoded_Y)"
   ]
  },
  {
   "cell_type": "code",
   "execution_count": 19,
   "metadata": {
    "collapsed": true
   },
   "outputs": [],
   "source": [
    "category = np.zeros(len(tab_nico),dtype=int)\n",
    "category[tab_nico['SPECTYPE']=='spEigenStar']=5\n",
    "category[tab_nico['SPECTYPE']=='ssp_em_galaxy']=0\n",
    "category[np.logical_and(tab_nico['SPECTYPE']=='QSO',tab_nico['Z']<2.1)]=4\n",
    "zbin1 = np.logical_and(tab_nico['Z']>=2.1,tab_nico['Z']<2.6)\n",
    "zbin2 = np.logical_and(tab_nico['Z']>=2.6,tab_nico['Z']<3.1)\n",
    "zbin3 = tab_nico['Z']>=3.1\n",
    "category[np.logical_and(tab_nico['SPECTYPE']=='QSO',zbin1)]=1\n",
    "category[np.logical_and(tab_nico['SPECTYPE']=='QSO',zbin2)]=2\n",
    "category[np.logical_and(tab_nico['SPECTYPE']=='QSO',zbin3)]=3"
   ]
  },
  {
   "cell_type": "code",
   "execution_count": 20,
   "metadata": {
    "collapsed": false
   },
   "outputs": [
    {
     "name": "stdout",
     "output_type": "stream",
     "text": [
      "245\n"
     ]
    }
   ],
   "source": [
    "galaxies =  np.count_nonzero(encoded_Y==0)\n"
   ]
  },
  {
   "cell_type": "code",
   "execution_count": 27,
   "metadata": {
    "collapsed": false
   },
   "outputs": [
    {
     "name": "stdout",
     "output_type": "stream",
     "text": [
      " (4000, 559) (4000,) (4000,)\n"
     ]
    }
   ],
   "source": [
    "print qso_flux.shape, category.shape, tab_nico['Z'].shape"
   ]
  },
  {
   "cell_type": "code",
   "execution_count": 29,
   "metadata": {
    "collapsed": false
   },
   "outputs": [],
   "source": [
    "xvec = np.zeros((qso_flux.shape[0],qso_flux.shape[1]+2))\n",
    "xvec[:,:-2]=qso_flux\n",
    "xvec[:,-2]=category\n",
    "xvec[:,-1]=tab_nico['Z']"
   ]
  },
  {
   "cell_type": "markdown",
   "metadata": {},
   "source": [
    "# Dense ANN"
   ]
  },
  {
   "cell_type": "code",
   "execution_count": 42,
   "metadata": {
    "collapsed": true
   },
   "outputs": [],
   "source": [
    "def create_baseline():\n",
    "    model = Sequential()\n",
    "    model.add(Dense(128, input_dim=qso_flux.shape[1]+2, init='normal', activation='relu'))\n",
    "    model.add(Dense(32, init='normal', activation='relu'))\n",
    "    model.add(Dropout(0.25))\n",
    "    model.add(Dense(24, init='normal', activation='relu'))\n",
    "    model.add(Dense(6, init='normal', activation='sigmoid'))\n",
    "    model.compile(loss='categorical_crossentropy', optimizer='adam', metrics=['accuracy'])\n",
    "    return model"
   ]
  },
  {
   "cell_type": "code",
   "execution_count": 44,
   "metadata": {
    "collapsed": false
   },
   "outputs": [
    {
     "name": "stdout",
     "output_type": "stream",
     "text": [
      "Results: 90.20% (2.14%)\n"
     ]
    }
   ],
   "source": [
    "estimator = KerasClassifier(build_fn=create_baseline, nb_epoch=100, batch_size=100, verbose=0)\n",
    "kfold = KFold(n_splits=10, shuffle=True, random_state=1244)\n",
    "results = cross_val_score(estimator, xvec[0:len(encoded_Y)], dummy_y, cv=kfold)\n",
    "print(\"Results: %.2f%% (%.2f%%)\" % (results.mean()*100, results.std()*100))"
   ]
  },
  {
   "cell_type": "markdown",
   "metadata": {},
   "source": [
    " ## BDT"
   ]
  },
  {
   "cell_type": "code",
   "execution_count": 59,
   "metadata": {
    "collapsed": false
   },
   "outputs": [],
   "source": [
    "ntrain=900\n",
    "qso_class_train = encoded_Y[:ntrain]\n",
    "qso_class_test = encoded_Y[ntrain:len(encoded_Y)]"
   ]
  },
  {
   "cell_type": "code",
   "execution_count": 61,
   "metadata": {
    "collapsed": false
   },
   "outputs": [],
   "source": [
    "qso_flux_train = xvec[:ntrain]\n",
    "qso_flux_test = xvec[ntrain:len(encoded_Y)]"
   ]
  },
  {
   "cell_type": "markdown",
   "metadata": {},
   "source": [
    "# BDT classifier"
   ]
  },
  {
   "cell_type": "code",
   "execution_count": 69,
   "metadata": {
    "collapsed": true
   },
   "outputs": [],
   "source": [
    "def quassify_adaboost(number_estimators):\n",
    "    from sklearn.ensemble import AdaBoostClassifier\n",
    "    from sklearn.tree import DecisionTreeClassifier\n",
    "    efficiency = np.zeros(len(number_estimators))\n",
    "    purity = np.zeros(len(number_estimators))\n",
    "    i_best =0\n",
    "    qso_fit_best = None\n",
    "    for i, ne in enumerate(number_estimators):\n",
    "        bdt = AdaBoostClassifier(DecisionTreeClassifier(max_depth=1),\n",
    "                         algorithm=\"SAMME\",n_estimators=ne)\n",
    "        bdt.fit(qso_flux_train,qso_class_train)\n",
    "        qso_fit = bdt.predict(qso_flux_test)\n",
    "        good = np.count_nonzero(qso_fit==qso_class_test)/(1.0*len(qso_class_test))\n",
    "        efficiency[i]=good\n",
    "        if(good>qso_fit_best):\n",
    "            qso_fit_best = good\n",
    "            i_best = i\n",
    "    plt.scatter(number_estimators,efficiency)\n",
    "    plt.xlabel('Number of estimators')\n",
    "    plt.ylabel('Efficiency')\n",
    "    bdt = AdaBoostClassifier(DecisionTreeClassifier(max_depth=1),\n",
    "                             algorithm=\"SAMME\",n_estimators=number_estimators[i_best])\n",
    "    bdt.fit(qso_flux_train,qso_class_train)\n",
    "    results = bdt.predict(xvec)\n",
    "    return results"
   ]
  },
  {
   "cell_type": "code",
   "execution_count": 70,
   "metadata": {
    "collapsed": true
   },
   "outputs": [],
   "source": [
    "def quassify_forest(N_boosts):\n",
    "    efficiency = np.zeros(len(N_boosts))\n",
    "    purity = np.zeros(len(N_boosts))\n",
    "    i_best = 0\n",
    "    qso_fit_best = None\n",
    "\n",
    "    for i, Nb in enumerate(N_boosts):\n",
    "        clf = GradientBoostingClassifier(n_estimators=Nb, learning_rate=0.1,max_depth=32, random_state=0)\n",
    "        clf.fit(qso_flux_train, qso_class_train)\n",
    "\n",
    "        qso_fit_train = clf.predict(qso_flux_train)\n",
    "        qso_fit = clf.predict(qso_flux_test)\n",
    "        good = np.count_nonzero(qso_fit==qso_class_test)/(1.0*len(qso_class_test))\n",
    "        efficiency[i]=good\n",
    "        if(good>qso_fit_best):\n",
    "            qso_fit_best = good\n",
    "            i_best = i\n",
    "    plt.scatter(N_boosts,efficiency)\n",
    "    plt.xlabel('Number of boosts')\n",
    "    plt.ylabel('Efficiency')\n",
    "    clf = GradientBoostingClassifier(n_estimators=N_boosts[i_best], learning_rate=0.1,max_depth=32, random_state=0)\n",
    "    clf.fit(qso_flux_train,qso_class_train)\n",
    "    results = clf.predict(xvec)\n",
    "    return results"
   ]
  },
  {
   "cell_type": "code",
   "execution_count": 71,
   "metadata": {
    "collapsed": false
   },
   "outputs": [
    {
     "data": {
      "image/png": "[encoded data removed]",
      "text/plain": [
       "<matplotlib.figure.Figure at 0x1bfc80110>"
      ]
     },
     "metadata": {},
     "output_type": "display_data"
    }
   ],
   "source": [
    "predicted_adaboost = quassify_adaboost(np.arange(50,200,25))"
   ]
  },
  {
   "cell_type": "code",
   "execution_count": 72,
   "metadata": {
    "collapsed": false
   },
   "outputs": [
    {
     "data": {
      "text/plain": [
       "(array([  943.,   249.,   372.,   281.,  1054.,  1101.,     0.]),\n",
       " array([ 0.        ,  0.85714286,  1.71428571,  2.57142857,  3.42857143,\n",
       "         4.28571429,  5.14285714,  6.        ]),\n",
       " <a list of 7 Patch objects>)"
      ]
     },
     "execution_count": 72,
     "metadata": {},
     "output_type": "execute_result"
    },
    {
     "data": {
      "image/png": "[encoded data removed]",
      "text/plain": [
       "<matplotlib.figure.Figure at 0x1c0eae610>"
      ]
     },
     "metadata": {},
     "output_type": "display_data"
    }
   ],
   "source": [
    "plt.hist(predicted_adaboost,range=(0,6),bins=7)"
   ]
  },
  {
   "cell_type": "code",
   "execution_count": 74,
   "metadata": {
    "collapsed": true
   },
   "outputs": [],
   "source": [
    "qso_result = encoder.inverse_transform(predicted_adaboost)"
   ]
  },
  {
   "cell_type": "code",
   "execution_count": 75,
   "metadata": {
    "collapsed": false
   },
   "outputs": [],
   "source": [
    "table_results = Table([Table(hdus[0][4].data)['TARGETID'],Table(hdus[0][4].data)['MAG'],qso_result],names=('TARGETID','MAG','OBJTYPE'))"
   ]
  },
  {
   "cell_type": "code",
   "execution_count": 76,
   "metadata": {
    "collapsed": false
   },
   "outputs": [],
   "source": [
    "table_results.write('./fake_qso/quassifier_results_adaboost_0.0.3.fits.gz', overwrite=True)"
   ]
  },
  {
   "cell_type": "code",
   "execution_count": 77,
   "metadata": {
    "collapsed": false
   },
   "outputs": [
    {
     "data": {
      "image/png": "[encoded data removed]",
      "text/plain": [
       "<matplotlib.figure.Figure at 0x1c2bf8810>"
      ]
     },
     "metadata": {},
     "output_type": "display_data"
    }
   ],
   "source": [
    "predicted_forest = quassify_forest(np.arange(1,16,2))"
   ]
  },
  {
   "cell_type": "code",
   "execution_count": 78,
   "metadata": {
    "collapsed": true
   },
   "outputs": [],
   "source": [
    "qso_result = encoder.inverse_transform(predicted_forest)"
   ]
  },
  {
   "cell_type": "code",
   "execution_count": 79,
   "metadata": {
    "collapsed": false
   },
   "outputs": [],
   "source": [
    "table_results = Table([Table(hdus[0][4].data)['TARGETID'],Table(hdus[0][4].data)['MAG'],qso_result],names=('TARGETID','MAG','OBJTYPE'))"
   ]
  },
  {
   "cell_type": "code",
   "execution_count": 80,
   "metadata": {
    "collapsed": true
   },
   "outputs": [],
   "source": [
    "table_results.write('./fake_qso/quassifier_results_forest_0.0.3.fits.gz', overwrite=True)"
   ]
  },
  {
   "cell_type": "markdown",
   "metadata": {},
   "source": [
    "## Testing results"
   ]
  },
  {
   "cell_type": "code",
   "execution_count": 27,
   "metadata": {
    "collapsed": true
   },
   "outputs": [],
   "source": [
    "def test_results(results_table_path,truth_table_path,picname):\n",
    "    results_table = Table.read(results_table_path)\n",
    "    truth_table = Table.read(truth_table_path)\n",
    "    joint_table = join(results_table,truth_table,'TARGETID')\n",
    "    zarr= truth_table['Z']\n",
    "    mask = [np.logical_and(truth_table['MAG'][:,2]>=22.0+0.7*i/5.,truth_table['MAG'][:,2]<22+0.7*(i+1)/5.) for i in range(0,5)]\n",
    "    mask_redshift = [np.logical_and(zarr>2.1+0.2*i,zarr<2.1+0.2*(i+1)) for i in range(0,7)]\n",
    "    mags = np.array([22+0.7*(i+0.5)/5. for i in range(0,5)])\n",
    "    zs = np.array([2.1+0.2*(i+0.5) for i in range(0,7)])\n",
    "    rqso= np.zeros(len(mask))\n",
    "    relg= np.zeros(len(mask))\n",
    "    rgal= np.zeros(len(mask))\n",
    "    rstar=np.zeros(len(mask))\n",
    "    rqsol=np.zeros(len(mask))\n",
    "    rqsoz= np.zeros(len(mask_redshift))\n",
    "    relgz= np.zeros(len(mask_redshift))\n",
    "    rgalz= np.zeros(len(mask_redshift))\n",
    "    rstarz=np.zeros(len(mask_redshift))\n",
    "    rqsolz=np.zeros(len(mask_redshift))\n",
    "    for imask,m in enumerate(mask):\n",
    "        d_hzqso1 = np.logical_and(m,joint_table['OBJTYPE']=='HZ_QSO_1')\n",
    "        d_hzqso2 = np.logical_and(m,joint_table['OBJTYPE']=='HZ_QSO_2')\n",
    "        d_hzqso3 = np.logical_and(m,joint_table['OBJTYPE']=='HZ_QSO_3')\n",
    "        d_qso = np.logical_and(m,joint_table['OBJTYPE']=='QSO')\n",
    "        d_star = np.logical_and(m,joint_table['OBJTYPE']=='STAR')\n",
    "        d_gal = np.logical_and(m,joint_table['OBJTYPE']=='GALAXY')\n",
    "        d_elg = np.logical_and(m,joint_table['OBJTYPE']=='ELG')\n",
    "        t_hzqso = np.logical_and(m,joint_table['TRUE_OBJTYPE']=='HZQSO')\n",
    "        t_qso = np.logical_and(m,joint_table['TRUE_OBJTYPE']=='QSO')\n",
    "        t_star = np.logical_and(m,joint_table['TRUE_OBJTYPE']=='STAR')\n",
    "        t_elg = np.logical_and(m,joint_table['TRUE_OBJTYPE']=='ELG')\n",
    "        t_gal = np.logical_and(m,joint_table['TRUE_OBJTYPE']=='GAL')\n",
    "        qso_as_elg = np.logical_and(t_hzqso,d_elg)\n",
    "        qso_as_qso = np.logical_and(t_hzqso,d_hzqso)\n",
    "        qso_as_gal = np.logical_and(t_hzqso,d_gal)\n",
    "        qso_as_star = np.logical_and(t_hzqso,d_star)\n",
    "        qso_as_qsol = np.logical_and(t_hzqso,d_qso)\n",
    "        rqso[imask] = np.count_nonzero(qso_as_qso)/(1.0*np.count_nonzero(t_hzqso))\n",
    "        relg[imask] = np.count_nonzero(qso_as_elg)/(1.0*np.count_nonzero(t_hzqso))\n",
    "        rgal[imask] = np.count_nonzero(qso_as_gal)/(1.0*np.count_nonzero(t_hzqso))\n",
    "        rstar[imask] = np.count_nonzero(qso_as_star)/(1.0*np.count_nonzero(t_hzqso))\n",
    "        rqsol[imask] = np.count_nonzero(qso_as_qsol)/(1.0*np.count_nonzero(t_hzqso))\n",
    "    for iz,mz in enumerate(mask_redshift):\n",
    "        d_hzqso1 = np.logical_and(mz,joint_table['OBJTYPE']=='HZ_QSO_1')\n",
    "        d_qso = np.logical_and(mz,joint_table['OBJTYPE']=='QSO')\n",
    "        d_star = np.logical_and(mz,joint_table['OBJTYPE']=='STAR')\n",
    "        d_gal = np.logical_and(mz,joint_table['OBJTYPE']=='GALAXY')\n",
    "        d_elg = np.logical_and(mz,joint_table['OBJTYPE']=='ELG')\n",
    "        t_hzqso = np.logical_and(mz,joint_table['TRUE_OBJTYPE']=='HZQSO')\n",
    "        t_qso = np.logical_and(mz,joint_table['TRUE_OBJTYPE']=='QSO')\n",
    "        t_star = np.logical_and(mz,joint_table['TRUE_OBJTYPE']=='STAR')\n",
    "        t_elg = np.logical_and(mz,joint_table['TRUE_OBJTYPE']=='ELG')\n",
    "        t_gal = np.logical_and(mz,joint_table['TRUE_OBJTYPE']=='GAL')\n",
    "        qso_as_elg = np.logical_and(t_hzqso,d_elg)\n",
    "        qso_as_qso = np.logical_and(t_hzqso,d_hzqso1)\n",
    "        qso_as_gal = np.logical_and(t_hzqso,d_gal)\n",
    "        qso_as_star = np.logical_and(t_hzqso,d_star)\n",
    "        qso_as_qsol = np.logical_and(t_hzqso,d_qso)\n",
    "        print (1.0*np.count_nonzero(t_hzqso)), np.count_nonzero(d_hzqso1)\n",
    "        rqsoz[iz] = np.count_nonzero(qso_as_qso)/(1.0*np.count_nonzero(t_hzqso))\n",
    "        relgz[iz] = np.count_nonzero(qso_as_elg)/(1.0*np.count_nonzero(t_hzqso))\n",
    "        rgalz[iz] = np.count_nonzero(qso_as_gal)/(1.0*np.count_nonzero(t_hzqso))\n",
    "        rstarz[iz] = np.count_nonzero(qso_as_star)/(1.0*np.count_nonzero(t_hzqso))\n",
    "        rqsolz[iz] = np.count_nonzero(qso_as_qsol)/(1.0*np.count_nonzero(t_hzqso))\n",
    "    plt.figure()\n",
    "    plt.plot(mags,rqso,'o',label='HZ-QSO as HZ-QSO')\n",
    "    plt.plot(mags,relg+rgal,'x',markerfacecolor='none',label='HZ-QSO as GALAXY')\n",
    "    plt.plot(mags,rstar,'+',markerfacecolor='none',label='HZ-QSO as STAR')\n",
    "    plt.plot(mags,rqsol,'*',label='HZ-QSO as LZ-QSO')\n",
    "    plt.plot(mags,np.ones_like(mags),'k--')\n",
    "    plt.legend(loc='best')\n",
    "    plt.xlabel('r-band magnitude')\n",
    "    plt.ylabel('Fraction detected')\n",
    "    #plt.ylim(-0.05,1.05)\n",
    "    savefig('./fake_qso/efficiency_mag_'+picname+'.png')\n",
    "    plt.figure()\n",
    "    plt.plot(zs,rqsoz,'o',label='HZ-QSO as HZ-QSO')\n",
    "    plt.plot(zs,relgz+rgalz,'x',markerfacecolor='none',label='HZ-QSO as GALAXY')\n",
    "    plt.plot(zs,rstarz,'+',markerfacecolor='none',label='HZ-QSO as STAR')\n",
    "    plt.plot(zs,rqsolz,'*',label='HZ-QSO as LZ-QSO')\n",
    "    plt.legend(loc='best')\n",
    "    plt.plot(zs,np.ones_like(zs),'k--')\n",
    "    plt.xlabel('Redshift')\n",
    "    plt.ylabel('Fraction detected')\n",
    "    #plt.ylim(-0.05,1.05)\n",
    "    savefig('./fake_qso/efficiency_z_'+picname+'.png')"
   ]
  },
  {
   "cell_type": "markdown",
   "metadata": {},
   "source": [
    "# KNN classifier"
   ]
  },
  {
   "cell_type": "code",
   "execution_count": 81,
   "metadata": {
    "collapsed": true
   },
   "outputs": [],
   "source": [
    "def quassifier_knn(kn):\n",
    "    from sklearn.neighbors import KNeighborsClassifier\n",
    "    efficiency = np.zeros(len(kn))\n",
    "    purity = np.zeros(len(kn))\n",
    "    i_best = 0\n",
    "    qso_fit_best = None\n",
    "\n",
    "    for i, knn in enumerate(kn):\n",
    "        knc = KNeighborsClassifier(n_neighbors=knn)\n",
    "        knc.fit(qso_flux_train, qso_class_train)\n",
    "\n",
    "        qso_fit_train = knc.predict(qso_flux_train)\n",
    "        qso_fit = knc.predict(qso_flux_test)\n",
    "        good = np.count_nonzero(qso_fit==qso_class_test)/(1.0*len(qso_class_test))\n",
    "        efficiency[i]=good\n",
    "        if(good>qso_fit_best):\n",
    "            qso_fit_best = good\n",
    "            i_best = i\n",
    "    plt.scatter(kn,efficiency)\n",
    "    plt.xlabel('Number of neighbors')\n",
    "    plt.ylabel('Efficiency')\n",
    "    knc = KNeighborsClassifier(n_neighbors=kn[i_best])\n",
    "    knc.fit(qso_flux_train,qso_class_train)\n",
    "    results = knc.predict(xvec)\n",
    "    return results"
   ]
  },
  {
   "cell_type": "code",
   "execution_count": 82,
   "metadata": {
    "collapsed": false
   },
   "outputs": [
    {
     "data": {
      "image/png": "[encoded data removed]",
      "text/plain": [
       "<matplotlib.figure.Figure at 0x1c1f24510>"
      ]
     },
     "metadata": {},
     "output_type": "display_data"
    }
   ],
   "source": [
    "qso_knn = quassifier_knn(np.arange(3,10))"
   ]
  },
  {
   "cell_type": "code",
   "execution_count": 83,
   "metadata": {
    "collapsed": false
   },
   "outputs": [],
   "source": [
    "qso_result = encoder.inverse_transform(qso_knn)"
   ]
  },
  {
   "cell_type": "code",
   "execution_count": 84,
   "metadata": {
    "collapsed": false
   },
   "outputs": [],
   "source": [
    "table_results = Table([Table(hdus[0][4].data)['TARGETID'],Table(hdus[0][4].data)['MAG'],qso_result],names=('TARGETID','MAG','OBJTYPE'))"
   ]
  },
  {
   "cell_type": "code",
   "execution_count": 85,
   "metadata": {
    "collapsed": false
   },
   "outputs": [],
   "source": [
    "table_results.write('./fake_qso/quassifier_results_knn_0.0.3.fits.gz', overwrite=True)"
   ]
  },
  {
   "cell_type": "markdown",
   "metadata": {},
   "source": [
    "# Dense layers Neural Network (this is the one that works the best)"
   ]
  },
  {
   "cell_type": "code",
   "execution_count": 88,
   "metadata": {
    "collapsed": false
   },
   "outputs": [],
   "source": [
    "def quassify_dense():\n",
    "    model = Sequential()\n",
    "    model.add(Dense(128, input_dim=qso_flux.shape[1]+2, init='normal', activation='relu'))\n",
    "    model.add(Dense(32, init='normal', activation='relu'))\n",
    "    model.add(Dropout(0.25))\n",
    "    model.add(Dense(24, init='normal', activation='relu'))\n",
    "    #model.add(Dense(8, init='normal', activation='relu'))\n",
    "    model.add(Dense(6, init='normal', activation='sigmoid'))\n",
    "    model.compile(loss='categorical_crossentropy', optimizer='adam', metrics=['accuracy'])\n",
    "    model.fit(qso_flux_train, dummy_y[0:ntrain], batch_size=ntrain, nb_epoch=1000, verbose=0, validation_split=0.2)\n",
    "    return model"
   ]
  },
  {
   "cell_type": "code",
   "execution_count": 89,
   "metadata": {
    "collapsed": false
   },
   "outputs": [],
   "source": [
    "model = quassify_dense()"
   ]
  },
  {
   "cell_type": "code",
   "execution_count": 91,
   "metadata": {
    "collapsed": false
   },
   "outputs": [
    {
     "name": "stdout",
     "output_type": "stream",
     "text": [
      "4000\n"
     ]
    }
   ],
   "source": [
    "predicted_output = model.predict_on_batch(xvec)\n",
    "qso_result = encoder.inverse_transform(np_utils.categorical_probas_to_classes(predicted_output))"
   ]
  },
  {
   "cell_type": "code",
   "execution_count": 93,
   "metadata": {
    "collapsed": false
   },
   "outputs": [],
   "source": [
    "table_results = Table([Table(hdus[0][4].data)['TARGETID'],Table(hdus[0][4].data)['MAG'],predicted_output],names=('TARGETID','MAG','Prob'))"
   ]
  },
  {
   "cell_type": "code",
   "execution_count": 94,
   "metadata": {
    "collapsed": true
   },
   "outputs": [],
   "source": [
    "table_results.write('./fake_qso/quassifier_results_dense_prob_03032017.fits.gz', overwrite=True)"
   ]
  },
  {
   "cell_type": "code",
   "execution_count": 95,
   "metadata": {
    "collapsed": false
   },
   "outputs": [
    {
     "name": "stdout",
     "output_type": "stream",
     "text": [
      "1017\n"
     ]
    }
   ],
   "source": [
    "results = encoder.inverse_transform(np_utils.categorical_probas_to_classes(predicted_output))\n",
    "gals = results=='GALAXY'\n",
    "print np.count_nonzero(gals)"
   ]
  },
  {
   "cell_type": "code",
   "execution_count": null,
   "metadata": {
    "collapsed": true
   },
   "outputs": [],
   "source": []
  }
 ],
 "metadata": {
  "kernelspec": {
   "display_name": "Python 2",
   "language": "python",
   "name": "python2"
  },
  "language_info": {
   "codemirror_mode": {
    "name": "ipython",
    "version": 2
   },
   "file_extension": ".py",
   "mimetype": "text/x-python",
   "name": "python",
   "nbconvert_exporter": "python",
   "pygments_lexer": "ipython2",
   "version": "2.7.12"
  }
 },
 "nbformat": 4,
 "nbformat_minor": 0
}
